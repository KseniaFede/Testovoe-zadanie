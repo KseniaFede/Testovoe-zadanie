{
 "cells": [
  {
   "cell_type": "code",
   "execution_count": 82,
   "metadata": {},
   "outputs": [
    {
     "name": "stdout",
     "output_type": "stream",
     "text": [
      "Наибольшая степень соответсвия фрагмента = 53% Положение фрагмента на исходной последовательности (55-70)\n",
      "Наибольшая степень соответсвия фрагмента = 53% Положение фрагмента на исходной последовательности (6-21)\n",
      "Наибольшая степень соответсвия фрагмента = 66% Положение фрагмента на исходной последовательности (1-16)\n"
     ]
    }
   ],
   "source": [
    "import numpy as np\n",
    "f2 = 'GTACGTGACTATCGAGCAGTCGACGAGCGACGAGCGAAGCTACGTAGCTGACGTAGCGAGCGACTAGTCAGCGTAGGCATCGACTACGAGCGAGGTGTACCTTGATCTGATCGAGCTACGATCATCTGACGACGGGCTATCTGATCGTGGTCAT'\n",
    "c = ['GTGGTACTGCTAGTC', 'TGGTTGCAGTGTAGT', 'GTCAGTATCTAGCGA']\n",
    "\n",
    "for f1 in c:\n",
    "    def sequences (f1,f2):\n",
    "            f1 = np.array(list(f1))\n",
    "            f2 = np.array(list(f2))\n",
    "            max1=0\n",
    "            i=0\n",
    "            index = 1\n",
    "            ideal=15\n",
    "            while i<=139:\n",
    "                f=f2[i:i+15]\n",
    "                r=f1==f\n",
    "                score=sum(r)\n",
    "                persent=int((score*100)/ideal)\n",
    "                i+=1\n",
    "                if persent > max1:\n",
    "                    max1 = persent\n",
    "                    max_index = index\n",
    "                    max_index2 = max_index+15\n",
    "                index += 1\n",
    "            return(max1, max_index,max_index2)\n",
    "    max1,max_index,max_index2=sequences(f1,f2)\n",
    "    print('Наибольшая степень соответсвия фрагмента = '+str(max1)+'% '+\"Положение фрагмента на исходной последовательности \"+'('+str(max_index)+\"-\"+str( max_index2) +')')"
   ]
  },
  {
   "cell_type": "code",
   "execution_count": null,
   "metadata": {},
   "outputs": [],
   "source": []
  }
 ],
 "metadata": {
  "kernelspec": {
   "display_name": "Python 3",
   "language": "python",
   "name": "python3"
  },
  "language_info": {
   "codemirror_mode": {
    "name": "ipython",
    "version": 3
   },
   "file_extension": ".py",
   "mimetype": "text/x-python",
   "name": "python",
   "nbconvert_exporter": "python",
   "pygments_lexer": "ipython3",
   "version": "3.8.5"
  }
 },
 "nbformat": 4,
 "nbformat_minor": 4
}
